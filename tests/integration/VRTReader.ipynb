{
 "cells": [
  {
   "cell_type": "code",
   "execution_count": null,
   "metadata": {
    "collapsed": true
   },
   "outputs": [],
   "source": [
    "from IPython.display import display, Image\n",
    "from geonotebook.wrappers import RasterData\n",
    "import matplotlib.pylab as plt"
   ]
  },
  {
   "cell_type": "code",
   "execution_count": null,
   "metadata": {
    "collapsed": false
   },
   "outputs": [],
   "source": [
    "EXPECTED=\"https://data.kitware.com/api/v1/file/586a8e158d777f1e3428d842/download\"\n",
    "\n",
    "M.set_center(-120.32, 47.84, 8)\n",
    "rd = RasterData('vrts/four_band_weld.vrt')\n",
    "\n",
    "M.add_layer(rd[1, 2, 3], opacity=1.0, gamma=2.5)\n",
    "\n",
    "display(Image(EXPECTED, format=\"png\"))"
   ]
  },
  {
   "cell_type": "code",
   "execution_count": null,
   "metadata": {
    "collapsed": false
   },
   "outputs": [],
   "source": [
    "EXPECTED=\"https://data.kitware.com/api/v1/item/586a8ec98d777f1e3428d844/download\"\n",
    "\n",
    "M.remove_layer(M.layers[0])\n",
    "\n",
    "cm = plt.get_cmap('winter', 20)\n",
    "\n",
    "M.add_layer(rd[4], colormap=cm, interval=(-1.0, 1.0))\n",
    "\n",
    "display(Image(EXPECTED, format=\"jpeg\"))"
   ]
  }
 ],
 "metadata": {
  "kernelspec": {
   "display_name": "Geonotebook (Python 2)",
   "language": "python",
   "name": "geonotebook2"
  },
  "language_info": {
   "codemirror_mode": {
    "name": "ipython",
    "version": 2
   },
   "file_extension": ".py",
   "mimetype": "text/x-python",
   "name": "python",
   "nbconvert_exporter": "python",
   "pygments_lexer": "ipython2",
   "version": "2.7.12"
  }
 },
 "nbformat": 4,
 "nbformat_minor": 2
}
