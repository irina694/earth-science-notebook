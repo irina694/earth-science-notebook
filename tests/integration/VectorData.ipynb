{
 "cells": [
  {
   "cell_type": "code",
   "execution_count": null,
   "metadata": {
    "collapsed": true
   },
   "outputs": [],
   "source": [
    "%matplotlib inline\n",
    "from IPython.display import display, Image\n",
    "from geonotebook.wrappers import VectorData\n",
    "import matplotlib.pylab as plt\n",
    "from math import log"
   ]
  },
  {
   "cell_type": "code",
   "execution_count": null,
   "metadata": {
    "collapsed": false,
    "scrolled": true
   },
   "outputs": [],
   "source": [
    "EXPECTED=\"https://data.kitware.com/api/v1/item/589b38c58d777f07219fcb3b/download\"\n",
    "# Set the center of the map to the location the data\n",
    "M.set_center(-98.58, 39.83, 3)\n",
    "\n",
    "# Clean up any layers that might already exist\n",
    "M.layers.annotation.clear_annotations()\n",
    "for l in M.layers:\n",
    "    M.remove_layer(l)\n",
    "    \n",
    "v = VectorData('data/states_20m')\n",
    "M.add_layer(v, colors=['red', 'white', 'blue'])\n",
    "\n",
    "display(Image(EXPECTED, format=\"png\"))"
   ]
  },
  {
   "cell_type": "code",
   "execution_count": null,
   "metadata": {
    "collapsed": false
   },
   "outputs": [],
   "source": [
    "EXPECTED=\"https://data.kitware.com/api/v1/item/589b42e38d777f07219fcc3b/download\"\n",
    "# Set the center of the map to the location the data\n",
    "M.set_center(-98.58, 39.83, 3)\n",
    "\n",
    "# Clean up any layers that might already exist\n",
    "M.layers.annotation.clear_annotations()\n",
    "for l in M.layers:\n",
    "    M.remove_layer(l)\n",
    "\n",
    "cm = plt.get_cmap('YlGnBu')\n",
    "def color_by_area(feature):\n",
    "    return cm()\n",
    "    \n",
    "v = VectorData('data/states_20m')\n",
    "M.add_layer(v, colormap=cm)\n",
    "\n",
    "display(Image(EXPECTED, format=\"png\"))"
   ]
  },
  {
   "cell_type": "code",
   "execution_count": null,
   "metadata": {
    "collapsed": false
   },
   "outputs": [],
   "source": [
    "EXPECTED=\"https://data.kitware.com/api/v1/item/589b598e8d777f07219fcc5a/download\"\n",
    "# Set the center of the map to the location the data\n",
    "M.set_center(-98.58, 39.83, 3)\n",
    "\n",
    "# Clean up any layers that might already exist\n",
    "M.layers.annotation.clear_annotations()\n",
    "for l in M.layers:\n",
    "    M.remove_layer(l)\n",
    "\n",
    "v = VectorData('data/states_20m')\n",
    "\n",
    "# create a custom color function\n",
    "cm = plt.get_cmap('YlOrRd')\n",
    "minval = 1e9\n",
    "maxval = 300e9\n",
    "def color_by_aland(feature, i):\n",
    "    aland = feature['properties']['ALAND']\n",
    "    return cm(float(aland - minval) / (maxval - minval))\n",
    "\n",
    "M.add_layer(v, colors=color_by_aland)\n",
    "\n",
    "display(Image(EXPECTED, format=\"png\"))"
   ]
  },
  {
   "cell_type": "code",
   "execution_count": null,
   "metadata": {
    "collapsed": false
   },
   "outputs": [],
   "source": [
    "EXPECTED=\"https://data.kitware.com/api/v1/item/589b60e78d777f07219fcc5d/download\"\n",
    "# Set the center of the map to the location the data\n",
    "M.set_center(-98.58, 39.83, 3)\n",
    "\n",
    "# Clean up any layers that might already exist\n",
    "M.layers.annotation.clear_annotations()\n",
    "for l in M.layers:\n",
    "    M.remove_layer(l)\n",
    "\n",
    "v = VectorData('data/ne_50m_populated_places_simple.geojson')\n",
    "\n",
    "# create a custom color function\n",
    "cm = plt.get_cmap('YlOrRd')\n",
    "minval = 0\n",
    "maxval = 10e6\n",
    "def color_by_pop(feature, i):\n",
    "    pop = feature['properties']['pop_max']\n",
    "    return cm(float(pop - minval) / (maxval - minval))\n",
    "\n",
    "M.add_layer(v, colors=color_by_pop)\n",
    "\n",
    "display(Image(EXPECTED, format=\"png\"))"
   ]
  },
  {
   "cell_type": "code",
   "execution_count": null,
   "metadata": {
    "collapsed": false
   },
   "outputs": [],
   "source": [
    "EXPECTED=\"https://data.kitware.com/api/v1/item/58a30ca68d777f0721a57c40/download\"\n",
    "# Set the center of the map to the location the data\n",
    "M.set_center(-98.58, 39.83, 3)\n",
    "\n",
    "# Clean up any layers that might already exist\n",
    "M.layers.annotation.clear_annotations()\n",
    "for l in M.layers:\n",
    "    M.remove_layer(l)\n",
    "    \n",
    "v = VectorData('data/states_20m')\n",
    "M.add_layer(v, colors=['red', 'white', 'blue'])\n",
    "\n",
    "# make sure annotations show up above vectors\n",
    "M.add_annotation('rectangle', [[-126, 23], [-126, 50], [-65, 50], [-65, 23]], {'rgb': 'black'})\n",
    "\n",
    "display(Image(EXPECTED, format=\"png\"))"
   ]
  },
  {
   "cell_type": "code",
   "execution_count": null,
   "metadata": {
    "collapsed": true
   },
   "outputs": [],
   "source": [
    "# vector layers don't yet support subsetting, so assert an empty\n",
    "# list is returned by the `data` iterator\n",
    "assert list(M.layers.annotation.rectangles[0].data) == []"
   ]
  },
  {
   "cell_type": "code",
   "execution_count": null,
   "metadata": {
    "collapsed": true
   },
   "outputs": [],
   "source": []
  }
 ],
 "metadata": {
  "kernelspec": {
   "display_name": "Geonotebook (Python 2)",
   "language": "python",
   "name": "geonotebook2"
  },
  "language_info": {
   "codemirror_mode": {
    "name": "ipython",
    "version": 2
   },
   "file_extension": ".py",
   "mimetype": "text/x-python",
   "name": "python",
   "nbconvert_exporter": "python",
   "pygments_lexer": "ipython2",
   "version": "2.7.12"
  }
 },
 "nbformat": 4,
 "nbformat_minor": 2
}
