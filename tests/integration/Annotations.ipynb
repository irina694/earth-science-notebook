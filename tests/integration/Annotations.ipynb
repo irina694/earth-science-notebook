{
 "cells": [
  {
   "cell_type": "markdown",
   "metadata": {},
   "source": [
    "   ### Point annotations"
   ]
  },
  {
   "cell_type": "code",
   "execution_count": null,
   "metadata": {
    "collapsed": true
   },
   "outputs": [],
   "source": [
    "%matplotlib inline\n",
    "from IPython.display import display, Image"
   ]
  },
  {
   "cell_type": "code",
   "execution_count": null,
   "metadata": {
    "collapsed": false
   },
   "outputs": [],
   "source": [
    "EXPECTED = 'https://data.kitware.com/api/v1/item/589761428d777f07219fcacb/download'\n",
    "\n",
    "M.layers.annotation.clear_annotations()\n",
    "M.set_center(0, 0, 5)\n",
    "\n",
    "M.add_annotation('point', [0, 0])\n",
    "M.add_annotation('point', [10, 0], {'rgb': 'firebrick'})\n",
    "M.add_annotation('point', [-10, 0])\n",
    "M.add_annotation('point', [0, 10], {'rgb': '#295bb5', 'name': 'spam'})\n",
    "M.add_annotation('point', [0, -10], {'rgb': '#23be1c', 'name': 'eggs'})\n",
    "\n",
    "display(Image(EXPECTED, format=\"png\"))"
   ]
  },
  {
   "cell_type": "code",
   "execution_count": null,
   "metadata": {
    "collapsed": false
   },
   "outputs": [],
   "source": [
    "# test drawing point annotations as svg\n",
    "M.layers.annotation.points[0]"
   ]
  },
  {
   "cell_type": "code",
   "execution_count": null,
   "metadata": {
    "collapsed": false
   },
   "outputs": [],
   "source": [
    "annotations = M.layers.annotation.serialize()['annotations']\n",
    "assert annotations[0]['args'] == ([0, 0],)\n",
    "assert annotations[1]['kwargs']['rgb'] == 'firebrick'\n",
    "assert annotations[3]['kwargs']['name'] == 'spam'\n",
    "assert list(M.layers.annotation.points[0].data) == []\n",
    "annotations"
   ]
  },
  {
   "cell_type": "markdown",
   "metadata": {
    "collapsed": true
   },
   "source": [
    "### Rectangle annotations"
   ]
  },
  {
   "cell_type": "code",
   "execution_count": null,
   "metadata": {
    "collapsed": false
   },
   "outputs": [],
   "source": [
    "EXPECTED = 'https://data.kitware.com/api/v1/item/589765518d777f07219fcace/download'\n",
    "\n",
    "M.layers.annotation.clear_annotations()\n",
    "M.set_center(0, 0, 5)\n",
    "\n",
    "M.add_annotation('rectangle', [[0, 0], [0, -10], [-10, -10], [-10, 0]])\n",
    "M.add_annotation('rectangle', [[10, 5], [10, 10], [20, 10], [20, 5]], {'rgb': 'lightgreen'})\n",
    "M.add_annotation('rectangle', [[10, 0], [15, 0], [15, -15], [10, -15]], {'rgb': 'lightblue', 'name': 'parrot'})\n",
    "\n",
    "display(Image(EXPECTED, format=\"png\"))"
   ]
  },
  {
   "cell_type": "code",
   "execution_count": null,
   "metadata": {
    "collapsed": false
   },
   "outputs": [],
   "source": [
    "# test drawing rectangle annotations as svg\n",
    "M.layers.annotation.rectangles[0]"
   ]
  },
  {
   "cell_type": "code",
   "execution_count": null,
   "metadata": {
    "collapsed": false
   },
   "outputs": [],
   "source": [
    "annotations = M.layers.annotation.serialize()['annotations']\n",
    "assert annotations[0]['args'][0] == [[0, 0], [0, -10], [-10, -10], [-10, 0]]\n",
    "assert annotations[1]['kwargs']['rgb'] == 'lightgreen'\n",
    "assert annotations[2]['kwargs']['name'] == 'parrot'\n",
    "assert list(M.layers.annotation.rectangles[0].data) == []\n",
    "annotations"
   ]
  },
  {
   "cell_type": "markdown",
   "metadata": {},
   "source": [
    "### Polygon annotations"
   ]
  },
  {
   "cell_type": "code",
   "execution_count": null,
   "metadata": {
    "collapsed": false
   },
   "outputs": [],
   "source": [
    "EXPECTED = 'https://data.kitware.com/api/v1/item/589769ba8d777f07219fcad1/download'\n",
    "\n",
    "from math import sin, cos, radians\n",
    "M.layers.annotation.clear_annotations()\n",
    "M.set_center(0, 0, 5)\n",
    "\n",
    "r = 10\n",
    "def point(angle):\n",
    "    angle = radians(angle)\n",
    "    return [r * cos(angle), r * sin(angle)]\n",
    "\n",
    "M.add_annotation('polygon', [\n",
    "    point(60 * i) for i in range(6)\n",
    "], {'rgb': 'red', 'name': 'stop'})\n",
    "\n",
    "display(Image(EXPECTED, format=\"png\"))"
   ]
  },
  {
   "cell_type": "code",
   "execution_count": null,
   "metadata": {
    "collapsed": false
   },
   "outputs": [],
   "source": [
    "# test drawing polygon annotations as svg\n",
    "M.layers.annotation.polygons[0]"
   ]
  },
  {
   "cell_type": "code",
   "execution_count": null,
   "metadata": {
    "collapsed": false
   },
   "outputs": [],
   "source": [
    "annotations = M.layers.annotation.serialize()['annotations']\n",
    "assert annotations[0]['args'][0][0] == [10.0, 0.0]\n",
    "assert annotations[0]['kwargs']['rgb'] == 'red'\n",
    "assert annotations[0]['kwargs']['name'] == 'stop'\n",
    "assert list(M.layers.annotation.polygons[0].data) == []\n",
    "annotations"
   ]
  },
  {
   "cell_type": "code",
   "execution_count": null,
   "metadata": {
    "collapsed": true
   },
   "outputs": [],
   "source": []
  }
 ],
 "metadata": {
  "kernelspec": {
   "display_name": "Geonotebook (Python 2)",
   "language": "python",
   "name": "geonotebook2"
  },
  "language_info": {
   "codemirror_mode": {
    "name": "ipython",
    "version": 2
   },
   "file_extension": ".py",
   "mimetype": "text/x-python",
   "name": "python",
   "nbconvert_exporter": "python",
   "pygments_lexer": "ipython2",
   "version": "2.7.12"
  }
 },
 "nbformat": 4,
 "nbformat_minor": 2
}
