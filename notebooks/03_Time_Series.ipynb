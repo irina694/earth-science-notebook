{
 "cells": [
  {
   "cell_type": "code",
   "execution_count": null,
   "metadata": {
    "collapsed": true
   },
   "outputs": [],
   "source": [
    "%matplotlib inline\n",
    "from matplotlib import pylab as plt\n",
    "from ipywidgets import interact\n",
    "import ipywidgets as widgets\n",
    "import matplotlib as mpl\n",
    "import numpy as np\n",
    "from geonotebook.wrappers import RasterDataCollection\n",
    "import os"
   ]
  },
  {
   "cell_type": "markdown",
   "metadata": {},
   "source": [
    "## Download the Data\n",
    "\n",
    "The following cell is a bash one-liner for downloading monthly NBAR geotiffs from roughly Dec 2008 to Dec 2011. This data will download into a ```data/``` directory relative to the directory where this notebook is running. There are 36 files making up about **8Gb** of data. This may take some time to download so please be patient. You should recieve notification in the cell output for each downloaded file. \n",
    "\n",
    "For convenience here is an beautified version of the bash one-liner:\n",
    "\n",
    "```bash\n",
    "# Recursively download the data\n",
    "if hash girder-cli 2>/dev/null; then \n",
    "  girder-cli --api-url https://data.kitware.com/api/v1 localsync 58dd35fd8d777f0aef5d8c73 data;\n",
    "else \n",
    "  echo \"girder-client is required (hint: pip install girder-client)\"; \n",
    "fi\n",
    "```"
   ]
  },
  {
   "cell_type": "code",
   "execution_count": null,
   "metadata": {
    "collapsed": false
   },
   "outputs": [],
   "source": [
    "!if hash girder-cli 2>/dev/null; then girder-cli --api-url https://data.kitware.com/api/v1 localsync 58dd35fd8d777f0aef5d8c73 data; else echo \"girder-client is required (hint: pip install girder-client)\"; fi"
   ]
  },
  {
   "cell_type": "code",
   "execution_count": null,
   "metadata": {
    "collapsed": true
   },
   "outputs": [],
   "source": [
    "DATA_DIR=\"data/\""
   ]
  },
  {
   "cell_type": "code",
   "execution_count": null,
   "metadata": {
    "collapsed": false
   },
   "outputs": [],
   "source": [
    "def sort_NBAR(path):\n",
    "  m, y = int(path.split(\".\")[2][-2:]), int(path.split(\".\")[3])\n",
    "  return (y * 100) + m\n",
    "\n",
    "\n",
    "PATHS = [DATA_DIR + p for p in sorted([\n",
    "    f for f in os.listdir(DATA_DIR) if f.startswith('L57')], key=sort_NBAR)]"
   ]
  },
  {
   "cell_type": "code",
   "execution_count": null,
   "metadata": {
    "collapsed": false
   },
   "outputs": [],
   "source": [
    "rdc = RasterDataCollection(PATHS)"
   ]
  },
  {
   "cell_type": "code",
   "execution_count": null,
   "metadata": {
    "collapsed": false
   },
   "outputs": [],
   "source": [
    "M.add_layer(rdc[:,[1,2,3]], 'NBAR', opacity=0.8, gamma=2.0)"
   ]
  },
  {
   "cell_type": "code",
   "execution_count": null,
   "metadata": {
    "collapsed": false
   },
   "outputs": [],
   "source": [
    "M.layers[0].forward()"
   ]
  },
  {
   "cell_type": "code",
   "execution_count": null,
   "metadata": {
    "collapsed": false
   },
   "outputs": [],
   "source": [
    "M.layers[0].backward()"
   ]
  },
  {
   "cell_type": "code",
   "execution_count": null,
   "metadata": {
    "collapsed": false
   },
   "outputs": [],
   "source": [
    "M.layers[0].idx(0)"
   ]
  },
  {
   "cell_type": "code",
   "execution_count": null,
   "metadata": {
    "collapsed": false
   },
   "outputs": [],
   "source": [
    "len(M.layers[0].data)"
   ]
  },
  {
   "cell_type": "code",
   "execution_count": null,
   "metadata": {
    "collapsed": false
   },
   "outputs": [],
   "source": [
    "def render_timeseries(idx=0):\n",
    "  M.layers[0].idx(idx)\n",
    "  \n",
    "interact(render_timeseries, idx=(0, len(M.layers[0].data) - 1))"
   ]
  },
  {
   "cell_type": "code",
   "execution_count": null,
   "metadata": {
    "collapsed": false
   },
   "outputs": [],
   "source": [
    "M.layers[0].idx(1)"
   ]
  },
  {
   "cell_type": "code",
   "execution_count": null,
   "metadata": {
    "collapsed": false
   },
   "outputs": [],
   "source": [
    "M.remove_layer(M.layers[0])"
   ]
  },
  {
   "cell_type": "code",
   "execution_count": null,
   "metadata": {
    "collapsed": false
   },
   "outputs": [],
   "source": [
    "M.add_layer(rdc[:,[4]], 'NBAR_NDVI', opacity=0.8)"
   ]
  },
  {
   "cell_type": "code",
   "execution_count": null,
   "metadata": {
    "collapsed": false
   },
   "outputs": [],
   "source": [
    "M.remove_layer(M.layers[1])"
   ]
  },
  {
   "cell_type": "code",
   "execution_count": null,
   "metadata": {
    "collapsed": false
   },
   "outputs": [],
   "source": [
    "def ndvi_colormap(numcolors=11, name='custom_div_cmap', \n",
    "                  mincol='blue', midcol='beige', maxcol='green'):\n",
    "  return mpl.colors.LinearSegmentedColormap.from_list(\n",
    "    name=name, colors=[mincol, midcol, maxcol], N=numcolors)\n",
    "\n",
    "cmap = ndvi_colormap()\n"
   ]
  },
  {
   "cell_type": "code",
   "execution_count": null,
   "metadata": {
    "collapsed": false
   },
   "outputs": [],
   "source": [
    "M.add_layer(rdc[:,4], 'NBAR_NDVI', colormap=cmap, opacity=0.8)"
   ]
  },
  {
   "cell_type": "code",
   "execution_count": null,
   "metadata": {
    "collapsed": false
   },
   "outputs": [],
   "source": [
    "M.layers[1].forward()"
   ]
  },
  {
   "cell_type": "code",
   "execution_count": null,
   "metadata": {
    "collapsed": false
   },
   "outputs": [],
   "source": [
    "M.layers"
   ]
  }
 ],
 "metadata": {
  "kernelspec": {
   "display_name": "Geonotebook (Python 2)",
   "language": "python",
   "name": "geonotebook2"
  },
  "language_info": {
   "codemirror_mode": {
    "name": "ipython",
    "version": 2
   },
   "file_extension": ".py",
   "mimetype": "text/x-python",
   "name": "python",
   "nbconvert_exporter": "python",
   "pygments_lexer": "ipython2",
   "version": "2.7.12"
  },
  "widgets": {
   "state": {
    "e344c95821fe48049234b50ac37d3507": {
     "views": [
      {
       "cell_index": 11
      }
     ]
    }
   },
   "version": "1.2.0"
  }
 },
 "nbformat": 4,
 "nbformat_minor": 1
}
