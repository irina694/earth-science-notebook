{
 "cells": [
  {
   "cell_type": "code",
   "execution_count": null,
   "metadata": {
    "collapsed": true
   },
   "outputs": [],
   "source": [
    "%matplotlib inline\n",
    "import matplotlib.pylab as plt"
   ]
  },
  {
   "cell_type": "code",
   "execution_count": null,
   "metadata": {
    "collapsed": false
   },
   "outputs": [],
   "source": [
    "from geonotebook.wrappers import RasterData\n",
    "\n",
    "rd = RasterData('/data/kotfic/srtm/srtm_all.vrt')\n",
    "# rd = RasterData('/data/doruk/srtm/srtm_all.vrt')"
   ]
  },
  {
   "cell_type": "code",
   "execution_count": null,
   "metadata": {
    "collapsed": true
   },
   "outputs": [],
   "source": [
    "colormap=[{\"quantity\": 0, \"color\": '#C2FAB3'},\n",
    "    {\"quantity\": 300, \"color\": '#D4EA86'},\n",
    "    {\"quantity\": 600, \"color\": '#169B28'},\n",
    "    {\"quantity\": 900, \"color\": '#639231'},\n",
    "    {\"quantity\": 1200, \"color\": '#E9B50D'},\n",
    "    {\"quantity\": 1500, \"color\": '#BE4200'},\n",
    "    {\"quantity\": 1800, \"color\": '#770701'},\n",
    "    {\"quantity\": 2100, \"color\": '#6D2308'},\n",
    "    {\"quantity\": 2400, \"color\": '#7B4928'},\n",
    "    {\"quantity\": 2700, \"color\": '#A49288'},\n",
    "    {\"quantity\": 3000, \"color\": '#CCCCCC'}]"
   ]
  },
  {
   "cell_type": "code",
   "execution_count": null,
   "metadata": {
    "collapsed": true
   },
   "outputs": [],
   "source": [
    "# %matplotlib inline\n",
    "# from matplotlib import pylab as plt\n",
    "\n",
    "# colormap = plt.get_cmap('hot_r', 50)"
   ]
  },
  {
   "cell_type": "code",
   "execution_count": null,
   "metadata": {
    "collapsed": false
   },
   "outputs": [],
   "source": [
    "M.add_layer(rd[1], opacity=0.7, \n",
    "            colormap=colormap, \n",
    "            interval=(0, 3000))"
   ]
  },
  {
   "cell_type": "code",
   "execution_count": null,
   "metadata": {
    "collapsed": false
   },
   "outputs": [],
   "source": [
    "M.remove_layer(M.layers[0])"
   ]
  },
  {
   "cell_type": "code",
   "execution_count": null,
   "metadata": {
    "collapsed": false
   },
   "outputs": [],
   "source": [
    "M.layers"
   ]
  },
  {
   "cell_type": "code",
   "execution_count": null,
   "metadata": {
    "collapsed": false
   },
   "outputs": [],
   "source": [
    "M.remove_layer(M.layers[0])"
   ]
  },
  {
   "cell_type": "markdown",
   "metadata": {},
   "source": [
    "## Just for Fun"
   ]
  },
  {
   "cell_type": "code",
   "execution_count": null,
   "metadata": {
    "collapsed": true
   },
   "outputs": [],
   "source": [
    "from matplotlib.pylab import plt\n",
    "import numpy as np\n",
    "import pandas as pd\n",
    "\n",
    "legend = pd.DataFrame([\n",
    "    (11, \"Open Water\", \"#476BA0\"),\n",
    "    (12, \"Perennial Ice/Snow\", \"#D1DDF9\"),\n",
    "    (21, \"Developed, Open Space\",\"#DDC9C9\"),\n",
    "    (22, \"Developed, Low Intensity\", \"#D89382\"),\n",
    "    (23, \"Developed, Medium Intensity\", \"#ED0000\"),\n",
    "    (24, \"Developed High Intensity\", \"#AA0000\"),\n",
    "    (31, \"Barren Land (Rock/Sand/Clay)\", \"#B2ADA3\"),\n",
    "    (41, \"Deciduous Forest\", \"#68AA63\"),\n",
    "    (42, \"Evergreen Forest\", \"#1C6330\"),\n",
    "    (43, \"Mixed Forest\", \"#B5C98E\"),\n",
    "    (51, \"Dwarf Scrub\", \"#A58C30\"),\n",
    "    (52, \"Shrub/Scrub\", \"#CCBA7C\"),\n",
    "    (71, \"Grassland/Herbaceous\", \"#E2E2C1\"),\n",
    "    (72, \"Sedge/Herbaceous\", \"#C9C977\"),\n",
    "    (73, \"Lichens\", \"#99C147\"),\n",
    "    (74, \"Moss\", \"#77AD93\"),\n",
    "    (81, \"Pasture/Hay\", \"#DBD83D\"),\n",
    "    (82, \"Cultivated Crops\", \"#AA7028\"),\n",
    "    (90, \"Woody Wetlands\", \"#BAD8EA\"),\n",
    "    (95, \"Emergent Herbaceous Wetlands\",\"#70A3BA\")],\n",
    "    columns=[\"Code\", \"Desc\", \"Color\"])\n",
    "\n",
    "def highlight(e):\n",
    "    return 'background-color: {}'.format(e)\n"
   ]
  },
  {
   "cell_type": "code",
   "execution_count": null,
   "metadata": {
    "collapsed": true
   },
   "outputs": [],
   "source": [
    "from geonotebook.wrappers import RasterData\n",
    "rd2 = RasterData(\"../data/nlcd_2011_landcover_2011_edition_2014_10_10.tif\")"
   ]
  },
  {
   "cell_type": "code",
   "execution_count": null,
   "metadata": {
    "collapsed": true
   },
   "outputs": [],
   "source": [
    "colormap = legend[[\"Code\", \"Color\"]].rename(columns={\n",
    "    \"Code\": \"quantity\", \"Color\": \"color\"}).to_dict(\"records\")"
   ]
  },
  {
   "cell_type": "code",
   "execution_count": null,
   "metadata": {
    "collapsed": false
   },
   "outputs": [],
   "source": [
    "M.add_layer(rd2[1], colormap=colormap, opacity=5.0)"
   ]
  },
  {
   "cell_type": "code",
   "execution_count": null,
   "metadata": {
    "collapsed": false
   },
   "outputs": [],
   "source": [
    "a = M.layers.annotation.rectangles[0].data\n",
    "_, srtm = next(a)\n",
    "_, nlcd = next(a)"
   ]
  },
  {
   "cell_type": "code",
   "execution_count": null,
   "metadata": {
    "collapsed": true
   },
   "outputs": [],
   "source": [
    "from skimage.transform import resize\n",
    "\n",
    "srtm_r = resize(srtm, nlcd.shape, order=0, preserve_range=True)"
   ]
  },
  {
   "cell_type": "code",
   "execution_count": null,
   "metadata": {
    "collapsed": false
   },
   "outputs": [],
   "source": [
    "df = pd.DataFrame({\"SRTM\": srtm_r.ravel(), \"NLCD\": nlcd.ravel()})\\\n",
    "    .merge(legend, left_on='NLCD', right_on='Code').drop(\"Code\", axis=1)"
   ]
  },
  {
   "cell_type": "code",
   "execution_count": null,
   "metadata": {
    "collapsed": false
   },
   "outputs": [],
   "source": [
    "df.groupby(\"Desc\")['SRTM'].count().sort_values(ascending=False)"
   ]
  },
  {
   "cell_type": "code",
   "execution_count": null,
   "metadata": {
    "collapsed": false
   },
   "outputs": [],
   "source": [
    "import seaborn as sns\n",
    "plt.figure(figsize=(12., 12.))\n",
    "\n",
    "palette = {d['Desc']: d['Color'] for d in legend[['Desc', 'Color']].to_dict('record')}\n",
    "kinds = [\n",
    "        \"Developed High Intensity\",\n",
    "        \"Developed, Low Intensity\",\n",
    "        \"Developed, Medium Intensity\",\n",
    "        \"Open Water\",\n",
    "        \"Woody Wetlands\"\n",
    "]\n",
    "img = sns.violinplot(\n",
    "    x=\"Desc\", y=\"SRTM\", palette=palette,\n",
    "    data=df[df['Desc'].isin(kinds)])\n",
    "\n",
    "for i in img.get_xticklabels():\n",
    "    i.set_rotation(90)"
   ]
  },
  {
   "cell_type": "code",
   "execution_count": null,
   "metadata": {
    "collapsed": false
   },
   "outputs": [],
   "source": [
    "M.layers.annotation.clear_annotations()"
   ]
  },
  {
   "cell_type": "code",
   "execution_count": null,
   "metadata": {
    "collapsed": false
   },
   "outputs": [],
   "source": [
    "M.remove_layer(M.layers[-1])"
   ]
  }
 ],
 "metadata": {
  "kernelspec": {
   "display_name": "Geonotebook (Python 2)",
   "language": "python",
   "name": "geonotebook2"
  },
  "language_info": {
   "codemirror_mode": {
    "name": "ipython",
    "version": 2
   },
   "file_extension": ".py",
   "mimetype": "text/x-python",
   "name": "python",
   "nbconvert_exporter": "python",
   "pygments_lexer": "ipython2",
   "version": "2.7.13"
  }
 },
 "nbformat": 4,
 "nbformat_minor": 2
}
