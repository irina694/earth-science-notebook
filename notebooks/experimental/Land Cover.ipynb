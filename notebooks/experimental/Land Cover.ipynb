{
 "cells": [
  {
   "cell_type": "code",
   "execution_count": null,
   "metadata": {
    "collapsed": false
   },
   "outputs": [],
   "source": [
    "%matplotlib inline"
   ]
  },
  {
   "cell_type": "code",
   "execution_count": null,
   "metadata": {
    "collapsed": false,
    "scrolled": true
   },
   "outputs": [],
   "source": [
    "from matplotlib.pylab import plt\n",
    "import numpy as np\n",
    "import pandas as pd\n",
    "\n",
    "legend = pd.DataFrame([\n",
    "    (11, \"Open Water\", \"#476BA0\"),\n",
    "    (12, \"Perennial Ice/Snow\", \"#D1DDF9\"),\n",
    "    (21, \"Developed, Open Space\",\"#DDC9C9\"),\n",
    "    (22, \"Developed, Low Intensity\", \"#D89382\"),\n",
    "    (23, \"Developed, Medium Intensity\", \"#ED0000\"),\n",
    "    (24, \"Developed High Intensity\", \"#AA0000\"),\n",
    "    (31, \"Barren Land (Rock/Sand/Clay)\", \"#B2ADA3\"),\n",
    "    (41, \"Deciduous Forest\", \"#68AA63\"),\n",
    "    (42, \"Evergreen Forest\", \"#1C6330\"),\n",
    "    (43, \"Mixed Forest\", \"#B5C98E\"),\n",
    "    (51, \"Dwarf Scrub\", \"#A58C30\"),\n",
    "    (52, \"Shrub/Scrub\", \"#CCBA7C\"),\n",
    "    (71, \"Grassland/Herbaceous\", \"#E2E2C1\"),\n",
    "    (72, \"Sedge/Herbaceous\", \"#C9C977\"),\n",
    "    (73, \"Lichens\", \"#99C147\"),\n",
    "    (74, \"Moss\", \"#77AD93\"),\n",
    "    (81, \"Pasture/Hay\", \"#DBD83D\"),\n",
    "    (82, \"Cultivated Crops\", \"#AA7028\"),\n",
    "    (90, \"Woody Wetlands\", \"#BAD8EA\"),\n",
    "    (95, \"Emergent Herbaceous Wetlands\",\"#70A3BA\")],\n",
    "    columns=[\"Code\", \"Desc\", \"Color\"])\n",
    "\n",
    "def highlight(e):\n",
    "    return 'background-color: {}'.format(e)\n"
   ]
  },
  {
   "cell_type": "code",
   "execution_count": null,
   "metadata": {
    "collapsed": false
   },
   "outputs": [],
   "source": [
    "from geonotebook.wrappers import RasterData\n",
    "rd = RasterData(\"../data/nlcd_2011_landcover_2011_edition_2014_10_10.tif\")"
   ]
  },
  {
   "cell_type": "code",
   "execution_count": null,
   "metadata": {
    "collapsed": true
   },
   "outputs": [],
   "source": [
    "colormap = legend[[\"Code\", \"Color\"]].rename(columns={\n",
    "    \"Code\": \"quantity\", \"Color\": \"color\"}).to_dict(\"records\")"
   ]
  },
  {
   "cell_type": "code",
   "execution_count": null,
   "metadata": {
    "collapsed": false
   },
   "outputs": [],
   "source": [
    "M.add_layer(rd[1], colormap=colormap, opacity=0.7)"
   ]
  },
  {
   "cell_type": "code",
   "execution_count": null,
   "metadata": {
    "collapsed": false
   },
   "outputs": [],
   "source": [
    "legend.set_index(\"Code\").style.applymap(highlight)"
   ]
  },
  {
   "cell_type": "code",
   "execution_count": null,
   "metadata": {
    "collapsed": false
   },
   "outputs": [],
   "source": [
    "from geonotebook.vis.ktile.utils import get_layer_vrt\n",
    "\n",
    "print(get_layer_vrt(M.layers[0]))"
   ]
  },
  {
   "cell_type": "code",
   "execution_count": null,
   "metadata": {
    "collapsed": false
   },
   "outputs": [],
   "source": [
    "M.remove_layer(M.layers[0])"
   ]
  },
  {
   "cell_type": "code",
   "execution_count": null,
   "metadata": {
    "collapsed": false
   },
   "outputs": [],
   "source": [
    "M.add_layer(rd[1], colormap=colormap, opacity=0.7, vrt_path=\"vrt/nlcd.vrt\")"
   ]
  },
  {
   "cell_type": "code",
   "execution_count": null,
   "metadata": {
    "collapsed": false,
    "scrolled": false
   },
   "outputs": [],
   "source": [
    "print(get_layer_vrt(M.layers[0]))"
   ]
  },
  {
   "cell_type": "code",
   "execution_count": null,
   "metadata": {
    "collapsed": false
   },
   "outputs": [],
   "source": [
    "l, d = M.layers.annotation.polygons[0].data.next()"
   ]
  },
  {
   "cell_type": "code",
   "execution_count": null,
   "metadata": {
    "collapsed": false
   },
   "outputs": [],
   "source": [
    "d.shape"
   ]
  },
  {
   "cell_type": "code",
   "execution_count": null,
   "metadata": {
    "collapsed": false
   },
   "outputs": [],
   "source": [
    "df = pd.DataFrame({\"Code\": d.data.ravel()})\n",
    "df[\"Count\"] = 1\n",
    "df = df.groupby(\"Code\").sum().join(legend.set_index(\"Code\"))\\\n",
    "    .sort_values(\"Count\", ascending=False).dropna()\n",
    "df.style.applymap(highlight)"
   ]
  },
  {
   "cell_type": "code",
   "execution_count": null,
   "metadata": {
    "collapsed": false
   },
   "outputs": [],
   "source": [
    "from matplotlib.colors import LinearSegmentedColormap\n",
    "\n",
    "df.set_index(\"Desc\").T.ix['Count'].plot(kind=\"barh\", color=list(df[\"Color\"]))\n",
    "\n"
   ]
  },
  {
   "cell_type": "code",
   "execution_count": null,
   "metadata": {
    "collapsed": false
   },
   "outputs": [],
   "source": [
    "M.layers[0].name"
   ]
  },
  {
   "cell_type": "code",
   "execution_count": null,
   "metadata": {
    "collapsed": false
   },
   "outputs": [],
   "source": [
    "import ipykernel\n",
    "ipykernel.get_connection_file()"
   ]
  }
 ],
 "metadata": {
  "kernelspec": {
   "display_name": "Geonotebook (Python 2)",
   "language": "python",
   "name": "geonotebook2"
  },
  "language_info": {
   "codemirror_mode": {
    "name": "ipython",
    "version": 2
   },
   "file_extension": ".py",
   "mimetype": "text/x-python",
   "name": "python",
   "nbconvert_exporter": "python",
   "pygments_lexer": "ipython2",
   "version": "2.7.13"
  }
 },
 "nbformat": 4,
 "nbformat_minor": 2
}
