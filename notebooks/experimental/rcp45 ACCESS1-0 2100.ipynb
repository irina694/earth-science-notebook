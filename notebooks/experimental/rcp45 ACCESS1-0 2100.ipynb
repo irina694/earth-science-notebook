{
 "cells": [
  {
   "cell_type": "code",
   "execution_count": null,
   "metadata": {
    "collapsed": false
   },
   "outputs": [],
   "source": [
    "%matplotlib inline\n",
    "from matplotlib import pylab as plt\n",
    "\n",
    "from geonotebook.wrappers import RasterData\n",
    "\n",
    "rd = RasterData('vrt/tasmax_day_BCSD_rcp45_r1i1p1_ACCESS1-0_2100.vrt')\n",
    "\n",
    "cmap = plt.get_cmap('hot_r', 50)\n",
    "\n",
    "M.set_center(0, 0, 2).then(\n",
    "    M.add_layer(\n",
    "        rd[1], colormap=cmap, opacity=0.8, interval=(201.5,327.1)))"
   ]
  },
  {
   "cell_type": "code",
   "execution_count": null,
   "metadata": {
    "collapsed": false,
    "scrolled": false
   },
   "outputs": [],
   "source": [
    "from geonotebook.vis.utils import generate_colormap\n",
    "import pandas as pd\n",
    "\n",
    "def highlight(e):\n",
    "    return \"background-color: {}\".format(e)\n",
    "\n",
    "df = pd.DataFrame(generate_colormap(cmap, 201.5, 327.1)).rename(columns={\"quantity\": \"kelvin\"})\n",
    "df['fahrenheit'] = df['kelvin'] * (9 / 5.) - 459.67\n",
    "df['celsius'] = df['kelvin'] - 273.15\n",
    "\n",
    "df.style.applymap(highlight)"
   ]
  },
  {
   "cell_type": "code",
   "execution_count": null,
   "metadata": {
    "collapsed": false
   },
   "outputs": [],
   "source": [
    "M.layers.annotation.rectangles[0]\n",
    "\n"
   ]
  },
  {
   "cell_type": "code",
   "execution_count": null,
   "metadata": {
    "collapsed": false
   },
   "outputs": [],
   "source": [
    "M.layers.annotation.rectangles[0].data.next"
   ]
  },
  {
   "cell_type": "code",
   "execution_count": null,
   "metadata": {
    "collapsed": false
   },
   "outputs": [],
   "source": [
    "M.layers.annotation.rectangles[0].data.next()"
   ]
  },
  {
   "cell_type": "code",
   "execution_count": null,
   "metadata": {
    "collapsed": false
   },
   "outputs": [],
   "source": [
    "from geonotebook.vis.ktile.utils import get_layer_vrt"
   ]
  },
  {
   "cell_type": "code",
   "execution_count": null,
   "metadata": {
    "collapsed": false
   },
   "outputs": [],
   "source": [
    "print(get_layer_vrt(M.layers[0]))"
   ]
  },
  {
   "cell_type": "code",
   "execution_count": null,
   "metadata": {
    "collapsed": true
   },
   "outputs": [],
   "source": []
  }
 ],
 "metadata": {
  "kernelspec": {
   "display_name": "Geonotebook (Python 2)",
   "language": "python",
   "name": "geonotebook2"
  },
  "language_info": {
   "codemirror_mode": {
    "name": "ipython",
    "version": 2
   },
   "file_extension": ".py",
   "mimetype": "text/x-python",
   "name": "python",
   "nbconvert_exporter": "python",
   "pygments_lexer": "ipython2",
   "version": "2.7.13"
  }
 },
 "nbformat": 4,
 "nbformat_minor": 2
}
